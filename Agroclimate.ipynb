{
  "cells": [
    {
      "cell_type": "markdown",
      "source": [
        "\n",
        "# Integrantes\n"
      ],
      "metadata": {
        "id": "jzfdWO7Ua_if"
      },
      "id": "jzfdWO7Ua_if"
    },
    {
      "cell_type": "markdown",
      "source": [
        "RM551191 - Diego Mascarenhas Santos (2TDSPV)\n",
        "\n",
        "RM550981 - Henrique Gerson Costa Correia (2TDSPV)\n",
        "\n",
        "RM98482 - Sarah Oliveira Souza Rosa (2TDSPV)\n",
        "\n",
        "RM97798 - Ester Dutra da Silva (2TDSPV)\n",
        "\n",
        "RM99985 - Felipe Batista Gregório (2TDSPY)"
      ],
      "metadata": {
        "id": "DsaEh9KTFTrF"
      },
      "id": "DsaEh9KTFTrF"
    },
    {
      "cell_type": "markdown",
      "source": [
        "# Descritvo\n",
        "\n",
        "\n"
      ],
      "metadata": {
        "id": "Sp3mAFXrWyzl"
      },
      "id": "Sp3mAFXrWyzl"
    },
    {
      "cell_type": "markdown",
      "source": [
        "Utilizamos o dataset atual pois é o que mais se aproxima da soluçao proposta pelo grupo, que é criar um programa que após receber dados de colheitas históricas de um usuário e atráves dos dados coletados (clima,tipo de plantação e tipo de solo) possa retornar dicas de como planejar suas próximas colheitas.\n"
      ],
      "metadata": {
        "id": "4UzAE4OPFYu4"
      },
      "id": "4UzAE4OPFYu4"
    },
    {
      "cell_type": "markdown",
      "source": [
        "# Imports"
      ],
      "metadata": {
        "id": "w29ox-6b--tu"
      },
      "id": "w29ox-6b--tu"
    },
    {
      "cell_type": "code",
      "execution_count": null,
      "id": "d339debd",
      "metadata": {
        "_cell_guid": "b1076dfc-b9ad-4769-8c92-a6c4dae69d19",
        "_uuid": "8f2839f25d086af736a60e9eeb907d3b93b6e0e5",
        "execution": {
          "iopub.execute_input": "2024-05-07T19:04:39.846995Z",
          "iopub.status.busy": "2024-05-07T19:04:39.845966Z",
          "iopub.status.idle": "2024-05-07T19:04:42.679310Z",
          "shell.execute_reply": "2024-05-07T19:04:42.678327Z"
        },
        "papermill": {
          "duration": 2.847044,
          "end_time": "2024-05-07T19:04:42.681967",
          "exception": false,
          "start_time": "2024-05-07T19:04:39.834923",
          "status": "completed"
        },
        "tags": [],
        "id": "d339debd"
      },
      "outputs": [],
      "source": [
        "import pandas as pd\n",
        "import numpy as np\n",
        "import matplotlib.pyplot as plt\n",
        "import seaborn as sns\n",
        "from sklearn.model_selection import train_test_split\n",
        "from sklearn.tree import DecisionTreeClassifier\n",
        "from sklearn.neighbors import KNeighborsClassifier\n",
        "from sklearn.ensemble import RandomForestClassifier\n",
        "from sklearn.preprocessing import LabelEncoder\n",
        "from sklearn.preprocessing import StandardScaler\n",
        "from sklearn.metrics import confusion_matrix\n",
        "from sklearn.metrics import accuracy_score\n",
        "from sklearn.metrics import classification_report\n",
        "\n",
        "data = pd.read_csv(\"/content/Crop_recommendation.csv\")\n",
        "data"
      ]
    },
    {
      "cell_type": "markdown",
      "source": [
        "# Analisado propriedades do dataset"
      ],
      "metadata": {
        "id": "73PPFsGN_izi"
      },
      "id": "73PPFsGN_izi"
    },
    {
      "cell_type": "code",
      "source": [
        "data.head()"
      ],
      "metadata": {
        "id": "b1n3p-6XWlLH",
        "collapsed": true
      },
      "id": "b1n3p-6XWlLH",
      "execution_count": null,
      "outputs": []
    },
    {
      "cell_type": "code",
      "execution_count": null,
      "id": "765b87ea",
      "metadata": {
        "execution": {
          "iopub.execute_input": "2024-05-07T19:04:42.788415Z",
          "iopub.status.busy": "2024-05-07T19:04:42.787690Z",
          "iopub.status.idle": "2024-05-07T19:04:42.811925Z",
          "shell.execute_reply": "2024-05-07T19:04:42.810871Z"
        },
        "papermill": {
          "duration": 0.037148,
          "end_time": "2024-05-07T19:04:42.814643",
          "exception": false,
          "start_time": "2024-05-07T19:04:42.777495",
          "status": "completed"
        },
        "tags": [],
        "id": "765b87ea",
        "collapsed": true
      },
      "outputs": [],
      "source": [
        "data.info()"
      ]
    },
    {
      "cell_type": "code",
      "execution_count": null,
      "id": "e2539015",
      "metadata": {
        "execution": {
          "iopub.execute_input": "2024-05-07T19:04:42.834693Z",
          "iopub.status.busy": "2024-05-07T19:04:42.833817Z",
          "iopub.status.idle": "2024-05-07T19:04:42.843224Z",
          "shell.execute_reply": "2024-05-07T19:04:42.842114Z"
        },
        "papermill": {
          "duration": 0.021799,
          "end_time": "2024-05-07T19:04:42.845408",
          "exception": false,
          "start_time": "2024-05-07T19:04:42.823609",
          "status": "completed"
        },
        "tags": [],
        "id": "e2539015",
        "collapsed": true
      },
      "outputs": [],
      "source": [
        "data.isna().sum()"
      ]
    },
    {
      "cell_type": "code",
      "execution_count": null,
      "id": "56b2d05b",
      "metadata": {
        "execution": {
          "iopub.execute_input": "2024-05-07T19:04:42.865758Z",
          "iopub.status.busy": "2024-05-07T19:04:42.865360Z",
          "iopub.status.idle": "2024-05-07T19:04:42.897818Z",
          "shell.execute_reply": "2024-05-07T19:04:42.896627Z"
        },
        "papermill": {
          "duration": 0.045687,
          "end_time": "2024-05-07T19:04:42.900421",
          "exception": false,
          "start_time": "2024-05-07T19:04:42.854734",
          "status": "completed"
        },
        "tags": [],
        "id": "56b2d05b",
        "collapsed": true
      },
      "outputs": [],
      "source": [
        "data.describe()"
      ]
    },
    {
      "cell_type": "code",
      "execution_count": null,
      "id": "32c6594c",
      "metadata": {
        "execution": {
          "iopub.execute_input": "2024-05-07T19:04:42.921848Z",
          "iopub.status.busy": "2024-05-07T19:04:42.921423Z",
          "iopub.status.idle": "2024-05-07T19:04:42.928277Z",
          "shell.execute_reply": "2024-05-07T19:04:42.927137Z"
        },
        "papermill": {
          "duration": 0.020515,
          "end_time": "2024-05-07T19:04:42.930599",
          "exception": false,
          "start_time": "2024-05-07T19:04:42.910084",
          "status": "completed"
        },
        "tags": [],
        "id": "32c6594c",
        "collapsed": true
      },
      "outputs": [],
      "source": [
        "data.columns"
      ]
    },
    {
      "cell_type": "code",
      "execution_count": null,
      "id": "e659b55a",
      "metadata": {
        "execution": {
          "iopub.execute_input": "2024-05-07T19:04:42.951694Z",
          "iopub.status.busy": "2024-05-07T19:04:42.951300Z",
          "iopub.status.idle": "2024-05-07T19:04:42.958795Z",
          "shell.execute_reply": "2024-05-07T19:04:42.957624Z"
        },
        "papermill": {
          "duration": 0.020907,
          "end_time": "2024-05-07T19:04:42.961213",
          "exception": false,
          "start_time": "2024-05-07T19:04:42.940306",
          "status": "completed"
        },
        "tags": [],
        "id": "e659b55a",
        "collapsed": true
      },
      "outputs": [],
      "source": [
        "data['label'].unique()"
      ]
    },
    {
      "cell_type": "code",
      "execution_count": null,
      "id": "43c623d8",
      "metadata": {
        "execution": {
          "iopub.execute_input": "2024-05-07T19:04:42.983902Z",
          "iopub.status.busy": "2024-05-07T19:04:42.982976Z",
          "iopub.status.idle": "2024-05-07T19:04:42.990191Z",
          "shell.execute_reply": "2024-05-07T19:04:42.988928Z"
        },
        "papermill": {
          "duration": 0.021502,
          "end_time": "2024-05-07T19:04:42.992414",
          "exception": false,
          "start_time": "2024-05-07T19:04:42.970912",
          "status": "completed"
        },
        "tags": [],
        "id": "43c623d8",
        "collapsed": true
      },
      "outputs": [],
      "source": [
        "data.shape"
      ]
    },
    {
      "cell_type": "markdown",
      "source": [
        "# Manipulando o dataset e gerando gráficos"
      ],
      "metadata": {
        "id": "Ox7CL2XW_7Cb"
      },
      "id": "Ox7CL2XW_7Cb"
    },
    {
      "cell_type": "code",
      "execution_count": null,
      "id": "4bfea3c9",
      "metadata": {
        "execution": {
          "iopub.execute_input": "2024-05-07T19:04:43.014767Z",
          "iopub.status.busy": "2024-05-07T19:04:43.013714Z",
          "iopub.status.idle": "2024-05-07T19:05:28.874362Z",
          "shell.execute_reply": "2024-05-07T19:05:28.873128Z"
        },
        "papermill": {
          "duration": 45.941558,
          "end_time": "2024-05-07T19:05:28.943918",
          "exception": false,
          "start_time": "2024-05-07T19:04:43.002360",
          "status": "completed"
        },
        "tags": [],
        "id": "4bfea3c9",
        "collapsed": true
      },
      "outputs": [],
      "source": [
        "sns.pairplot(data=data,hue='label')\n",
        "plt.show()"
      ]
    },
    {
      "cell_type": "code",
      "execution_count": null,
      "id": "182dc548",
      "metadata": {
        "execution": {
          "iopub.execute_input": "2024-05-07T19:05:29.028133Z",
          "iopub.status.busy": "2024-05-07T19:05:29.027005Z",
          "iopub.status.idle": "2024-05-07T19:05:29.531180Z",
          "shell.execute_reply": "2024-05-07T19:05:29.529969Z"
        },
        "papermill": {
          "duration": 0.549135,
          "end_time": "2024-05-07T19:05:29.533773",
          "exception": false,
          "start_time": "2024-05-07T19:05:28.984638",
          "status": "completed"
        },
        "tags": [],
        "id": "182dc548",
        "collapsed": true
      },
      "outputs": [],
      "source": [
        "numeric_data = data.drop(['label'],axis=1)\n",
        "figure=plt.figure(figsize=(12,6))\n",
        "sns.heatmap(numeric_data.corr(),annot=True,)"
      ]
    },
    {
      "cell_type": "code",
      "execution_count": null,
      "id": "8ec678e9",
      "metadata": {
        "execution": {
          "iopub.execute_input": "2024-05-07T19:05:29.620121Z",
          "iopub.status.busy": "2024-05-07T19:05:29.619233Z",
          "iopub.status.idle": "2024-05-07T19:05:29.638880Z",
          "shell.execute_reply": "2024-05-07T19:05:29.637721Z"
        },
        "papermill": {
          "duration": 0.065759,
          "end_time": "2024-05-07T19:05:29.641429",
          "exception": false,
          "start_time": "2024-05-07T19:05:29.575670",
          "status": "completed"
        },
        "tags": [],
        "id": "8ec678e9",
        "collapsed": true
      },
      "outputs": [],
      "source": [
        "le = LabelEncoder()\n",
        "data['label'] = le.fit_transform(data['label'])\n",
        "data"
      ]
    },
    {
      "cell_type": "code",
      "execution_count": null,
      "id": "88133e98",
      "metadata": {
        "execution": {
          "iopub.execute_input": "2024-05-07T19:05:29.728023Z",
          "iopub.status.busy": "2024-05-07T19:05:29.727056Z",
          "iopub.status.idle": "2024-05-07T19:05:29.736844Z",
          "shell.execute_reply": "2024-05-07T19:05:29.735646Z"
        },
        "papermill": {
          "duration": 0.05592,
          "end_time": "2024-05-07T19:05:29.739239",
          "exception": false,
          "start_time": "2024-05-07T19:05:29.683319",
          "status": "completed"
        },
        "tags": [],
        "id": "88133e98",
        "collapsed": true
      },
      "outputs": [],
      "source": [
        "class_labels = data['label'].unique().tolist()\n",
        "class_labels = le.classes_\n",
        "class_labels"
      ]
    },
    {
      "cell_type": "code",
      "execution_count": null,
      "id": "9cfbb881",
      "metadata": {
        "execution": {
          "iopub.execute_input": "2024-05-07T19:05:29.825736Z",
          "iopub.status.busy": "2024-05-07T19:05:29.825314Z",
          "iopub.status.idle": "2024-05-07T19:05:29.831687Z",
          "shell.execute_reply": "2024-05-07T19:05:29.830556Z"
        },
        "papermill": {
          "duration": 0.054149,
          "end_time": "2024-05-07T19:05:29.835419",
          "exception": false,
          "start_time": "2024-05-07T19:05:29.781270",
          "status": "completed"
        },
        "tags": [],
        "id": "9cfbb881",
        "collapsed": true
      },
      "outputs": [],
      "source": [
        "label_dict = {}\n",
        "for index,label in enumerate(class_labels):\n",
        "    label_dict[label] = index\n",
        "\n",
        "print(label_dict)"
      ]
    },
    {
      "cell_type": "code",
      "execution_count": null,
      "id": "b00ba5a3",
      "metadata": {
        "execution": {
          "iopub.execute_input": "2024-05-07T19:05:29.922046Z",
          "iopub.status.busy": "2024-05-07T19:05:29.921621Z",
          "iopub.status.idle": "2024-05-07T19:05:29.927036Z",
          "shell.execute_reply": "2024-05-07T19:05:29.925807Z"
        },
        "papermill": {
          "duration": 0.051509,
          "end_time": "2024-05-07T19:05:29.929555",
          "exception": false,
          "start_time": "2024-05-07T19:05:29.878046",
          "status": "completed"
        },
        "tags": [],
        "id": "b00ba5a3"
      },
      "outputs": [],
      "source": [
        "acc = []\n",
        "model = []"
      ]
    },
    {
      "cell_type": "code",
      "execution_count": null,
      "id": "e4d3de48",
      "metadata": {
        "execution": {
          "iopub.execute_input": "2024-05-07T19:05:30.018468Z",
          "iopub.status.busy": "2024-05-07T19:05:30.018025Z",
          "iopub.status.idle": "2024-05-07T19:05:30.029038Z",
          "shell.execute_reply": "2024-05-07T19:05:30.028011Z"
        },
        "papermill": {
          "duration": 0.059392,
          "end_time": "2024-05-07T19:05:30.031834",
          "exception": false,
          "start_time": "2024-05-07T19:05:29.972442",
          "status": "completed"
        },
        "tags": [],
        "id": "e4d3de48"
      },
      "outputs": [],
      "source": [
        "x = data.drop('label',axis=1)\n",
        "y = data['label']\n",
        "x_train,x_test,y_train,y_test = train_test_split(x,y,test_size=0.1,shuffle=True ,random_state=42)"
      ]
    },
    {
      "cell_type": "code",
      "execution_count": null,
      "id": "d58da5ea",
      "metadata": {
        "execution": {
          "iopub.execute_input": "2024-05-07T19:05:30.118695Z",
          "iopub.status.busy": "2024-05-07T19:05:30.118124Z",
          "iopub.status.idle": "2024-05-07T19:05:30.131444Z",
          "shell.execute_reply": "2024-05-07T19:05:30.130415Z"
        },
        "papermill": {
          "duration": 0.060202,
          "end_time": "2024-05-07T19:05:30.134050",
          "exception": false,
          "start_time": "2024-05-07T19:05:30.073848",
          "status": "completed"
        },
        "tags": [],
        "id": "d58da5ea"
      },
      "outputs": [],
      "source": [
        "scaler=StandardScaler()\n",
        "x_train=scaler.fit_transform(x_train)\n",
        "x_train=pd.DataFrame(x_train,columns=x.columns)\n",
        "x_train,x_test,y_train,y_test = train_test_split(x,y,test_size=0.1,shuffle=True ,random_state=42)"
      ]
    },
    {
      "cell_type": "code",
      "execution_count": null,
      "id": "8d184bc1",
      "metadata": {
        "execution": {
          "iopub.execute_input": "2024-05-07T19:05:30.220304Z",
          "iopub.status.busy": "2024-05-07T19:05:30.219683Z",
          "iopub.status.idle": "2024-05-07T19:05:30.806381Z",
          "shell.execute_reply": "2024-05-07T19:05:30.805240Z"
        },
        "papermill": {
          "duration": 0.633054,
          "end_time": "2024-05-07T19:05:30.808933",
          "exception": false,
          "start_time": "2024-05-07T19:05:30.175879",
          "status": "completed"
        },
        "tags": [],
        "id": "8d184bc1"
      },
      "outputs": [],
      "source": [
        "rf_model = RandomForestClassifier(random_state=42)\n",
        "rf_model.fit(x_train,y_train)\n",
        "y_pred = rf_model.predict(x_test)\n",
        "rf_model.score(x_train,y_train),rf_model.score(x_test,y_test)"
      ]
    },
    {
      "cell_type": "code",
      "execution_count": null,
      "id": "8cbbdd63",
      "metadata": {
        "execution": {
          "iopub.execute_input": "2024-05-07T19:05:30.896014Z",
          "iopub.status.busy": "2024-05-07T19:05:30.895605Z",
          "iopub.status.idle": "2024-05-07T19:05:30.917361Z",
          "shell.execute_reply": "2024-05-07T19:05:30.916152Z"
        },
        "papermill": {
          "duration": 0.068079,
          "end_time": "2024-05-07T19:05:30.919958",
          "exception": false,
          "start_time": "2024-05-07T19:05:30.851879",
          "status": "completed"
        },
        "tags": [],
        "id": "8cbbdd63",
        "collapsed": true
      },
      "outputs": [],
      "source": [
        "accs = accuracy_score(y_pred, y_test)\n",
        "acc.append(accs)\n",
        "model.append('rf_model')\n",
        "print(\"Matrix de Classificação:\\n\",confusion_matrix(y_test,y_pred))\n",
        "print(\"Relatório de Classificação:\\n\",classification_report(y_test,y_pred))\n",
        "print('.:. Random Forest Classifier:'+'\\033[1m {:.3f}%'.format(accs*100)+' .:.')"
      ]
    },
    {
      "cell_type": "code",
      "execution_count": null,
      "id": "bd31ad2f",
      "metadata": {
        "execution": {
          "iopub.execute_input": "2024-05-07T19:05:31.005958Z",
          "iopub.status.busy": "2024-05-07T19:05:31.005554Z",
          "iopub.status.idle": "2024-05-07T19:05:31.035670Z",
          "shell.execute_reply": "2024-05-07T19:05:31.034548Z"
        },
        "papermill": {
          "duration": 0.076324,
          "end_time": "2024-05-07T19:05:31.038246",
          "exception": false,
          "start_time": "2024-05-07T19:05:30.961922",
          "status": "completed"
        },
        "tags": [],
        "id": "bd31ad2f",
        "collapsed": true
      },
      "outputs": [],
      "source": [
        "dt_model = DecisionTreeClassifier(random_state=42)\n",
        "dt_model.fit(x_train,y_train)\n",
        "y_pred1 = dt_model.predict(x_test)\n",
        "dt_model.score(x_train,y_train),dt_model.score(x_test,y_test)"
      ]
    },
    {
      "cell_type": "code",
      "execution_count": null,
      "id": "6e9c4c57",
      "metadata": {
        "execution": {
          "iopub.execute_input": "2024-05-07T19:05:31.126601Z",
          "iopub.status.busy": "2024-05-07T19:05:31.126190Z",
          "iopub.status.idle": "2024-05-07T19:05:31.148453Z",
          "shell.execute_reply": "2024-05-07T19:05:31.147196Z"
        },
        "papermill": {
          "duration": 0.069803,
          "end_time": "2024-05-07T19:05:31.151222",
          "exception": false,
          "start_time": "2024-05-07T19:05:31.081419",
          "status": "completed"
        },
        "tags": [],
        "id": "6e9c4c57",
        "collapsed": true
      },
      "outputs": [],
      "source": [
        "accs1 = accuracy_score(y_pred1, y_test)\n",
        "acc.append(accs1)\n",
        "model.append('dt_model')\n",
        "print(\"Matrix de Confusão:\\n\",confusion_matrix(y_test,y_pred1))\n",
        "print(\"Relatório de Classificação:\\n\",classification_report(y_test,y_pred1))\n",
        "print('.:. Classificador de decision tree:'+'\\033[1m {:.3f}%'.format(accs*100)+' .:.')"
      ]
    },
    {
      "cell_type": "code",
      "execution_count": null,
      "id": "b0f9cb49",
      "metadata": {
        "execution": {
          "iopub.execute_input": "2024-05-07T19:05:31.241803Z",
          "iopub.status.busy": "2024-05-07T19:05:31.240757Z",
          "iopub.status.idle": "2024-05-07T19:05:31.428974Z",
          "shell.execute_reply": "2024-05-07T19:05:31.427484Z"
        },
        "papermill": {
          "duration": 0.23841,
          "end_time": "2024-05-07T19:05:31.431873",
          "exception": false,
          "start_time": "2024-05-07T19:05:31.193463",
          "status": "completed"
        },
        "tags": [],
        "id": "b0f9cb49",
        "collapsed": true
      },
      "outputs": [],
      "source": [
        "knn_model = KNeighborsClassifier()\n",
        "knn_model.fit(x_train,y_train)\n",
        "y_pred2 = knn_model.predict(x_test)\n",
        "knn_model.score(x_train,y_train),knn_model.score(x_test,y_test)"
      ]
    },
    {
      "cell_type": "code",
      "execution_count": null,
      "id": "911d79fa",
      "metadata": {
        "execution": {
          "iopub.execute_input": "2024-05-07T19:05:31.521327Z",
          "iopub.status.busy": "2024-05-07T19:05:31.520376Z",
          "iopub.status.idle": "2024-05-07T19:05:31.542032Z",
          "shell.execute_reply": "2024-05-07T19:05:31.540854Z"
        },
        "papermill": {
          "duration": 0.070624,
          "end_time": "2024-05-07T19:05:31.544936",
          "exception": false,
          "start_time": "2024-05-07T19:05:31.474312",
          "status": "completed"
        },
        "tags": [],
        "id": "911d79fa",
        "collapsed": true
      },
      "outputs": [],
      "source": [
        "accs2 = accuracy_score(y_pred2, y_test)\n",
        "acc.append(accs2)\n",
        "model.append('knn_model')\n",
        "print(\"Matrix de confusão:\\n\",confusion_matrix(y_test,y_pred2))\n",
        "print(\"Relatório de Classificação:\\n\",classification_report(y_test,y_pred2))\n",
        "print('.:.Classificador K Neighbors :'+'\\033[1m {:.3f}%'.format(accs2*100)+' .:.')"
      ]
    },
    {
      "cell_type": "code",
      "execution_count": null,
      "id": "66e58bdd",
      "metadata": {
        "execution": {
          "iopub.execute_input": "2024-05-07T19:05:31.635361Z",
          "iopub.status.busy": "2024-05-07T19:05:31.633899Z",
          "iopub.status.idle": "2024-05-07T19:05:31.921624Z",
          "shell.execute_reply": "2024-05-07T19:05:31.920432Z"
        },
        "papermill": {
          "duration": 0.3356,
          "end_time": "2024-05-07T19:05:31.924339",
          "exception": false,
          "start_time": "2024-05-07T19:05:31.588739",
          "status": "completed"
        },
        "tags": [],
        "id": "66e58bdd",
        "collapsed": true
      },
      "outputs": [],
      "source": [
        "plt.figure(figsize=[10,5],dpi = 100)\n",
        "plt.title('Accuracy Comparison')\n",
        "plt.xlabel('Accuracy')\n",
        "plt.ylabel('Algorithm')\n",
        "sns.barplot(x = acc,y = model,palette='dark')"
      ]
    },
    {
      "cell_type": "code",
      "execution_count": null,
      "id": "b616ea78",
      "metadata": {
        "execution": {
          "iopub.execute_input": "2024-05-07T19:05:32.034036Z",
          "iopub.status.busy": "2024-05-07T19:05:32.033295Z",
          "iopub.status.idle": "2024-05-07T19:05:32.053697Z",
          "shell.execute_reply": "2024-05-07T19:05:32.052345Z"
        },
        "papermill": {
          "duration": 0.086092,
          "end_time": "2024-05-07T19:05:32.056568",
          "exception": false,
          "start_time": "2024-05-07T19:05:31.970476",
          "status": "completed"
        },
        "tags": [],
        "id": "b616ea78",
        "collapsed": true
      },
      "outputs": [],
      "source": [
        "features = np.array([[104,18, 30, 23.603016, 60.3, 6.7, 140.91]])\n",
        "Recommended_Crop = rf_model.predict(features)\n",
        "print(\"Recomendo colher:\",class_labels[Recommended_Crop])"
      ]
    }
  ],
  "metadata": {
    "kaggle": {
      "accelerator": "none",
      "dataSources": [
        {
          "datasetId": 1046158,
          "sourceId": 1760012,
          "sourceType": "datasetVersion"
        }
      ],
      "dockerImageVersionId": 30698,
      "isGpuEnabled": false,
      "isInternetEnabled": true,
      "language": "python",
      "sourceType": "notebook"
    },
    "kernelspec": {
      "display_name": "Python 3",
      "language": "python",
      "name": "python3"
    },
    "language_info": {
      "codemirror_mode": {
        "name": "ipython",
        "version": 3
      },
      "file_extension": ".py",
      "mimetype": "text/x-python",
      "name": "python",
      "nbconvert_exporter": "python",
      "pygments_lexer": "ipython3",
      "version": "3.10.13"
    },
    "papermill": {
      "default_parameters": {},
      "duration": 56.429629,
      "end_time": "2024-05-07T19:05:33.235817",
      "environment_variables": {},
      "exception": null,
      "input_path": "__notebook__.ipynb",
      "output_path": "__notebook__.ipynb",
      "parameters": {},
      "start_time": "2024-05-07T19:04:36.806188",
      "version": "2.5.0"
    },
    "colab": {
      "provenance": []
    }
  },
  "nbformat": 4,
  "nbformat_minor": 5
}